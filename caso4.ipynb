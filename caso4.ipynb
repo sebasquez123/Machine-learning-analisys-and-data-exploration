{
 "cells": [
  {
   "cell_type": "markdown",
   "id": "9509ace0-7428-4d16-9d9b-5cc538a19868",
   "metadata": {},
   "source": [
    "# Estudio de la producción de leche en el departamento del valle del cauca\n",
    "Fecha: 25/11/2024\n",
    "### Ingenieros\n",
    "- Jose Manuel Villa Romero\n",
    "- Sebastian Vasquez Grajales\n",
    "## Fundamentación teórica\n",
    "## 1. Fases del ciclo de vida de un proyecto de machine learning\n",
    "\n",
    "\n",
    "<div style=\"text-align: justify;\">El ciclo de vida de una aplicación de aprendizaje de máquina comienza con la identificación del problema, definiendo claramente el objetivo o problema y cómo el aprendizaje automático puede contribuir a resolverlo parcial o totalmente. Luego, se pasa a la recolección de datos, asegurando que sean relevantes, precisos, suficientes y alineados con el problema objetivo.\n",
    "\n",
    "**Acondicionamiento de datos**\n",
    "\n",
    "En la etapa de preparación de datos, se analizan, filtran, limpian, normalizan, completan y escalan los datos, además de manejar valores faltantes, indeterminados o atípicos, segmentarlos, transformarlos y dividirlos en conjuntos de entrenamiento y prueba. Posteriormente, en la ingeniería de modelos, se selecciona el modelo competente con la dificultad, el propósito y la capacidad de computo, se realizan ajustes de hiperparámetros y se entrena el modelo según criterios de desempeño que exige el objetivo principal.\n",
    "\n",
    "**Evaluación, métricas e indices de desempeño**\n",
    "\n",
    "Finalmente, en la evaluación del modelo, se miden métricas como precisión, recall y F1-score para determinar si el modelo es lo preciso, apto y acorde a lo esperado para ser desplegado.\n",
    "\n",
    "**Despliegue y mantenimiento**\n",
    "\n",
    "El esquema de despliegue y mantenimiento va orientado a la construcción del ecosistema de manejo de aplicaciones que gestiona el consumo y la inferencia del modelo en un orden local o en un ambiente en la nube, usando prácticas, protocolos, estándares y arquitecturas propias del desarrollo y visualización de software que garantizan la escalabilidad y optimización de recursos. Para este propósito existe la integración con bases de datos que almacenan información relevante de servicio, repositorios en la nube dedicados al almacenamiento de modelos de machine learning y controladores de versión y despliegue continuo que gestionan los cambios del modelo en producción.</div>\n",
    "\n",
    "\n",
    "**Definición del objetivo y analisis de viabilidad**\n",
    "La identificación del problema en Machine Learning es el primer paso. Implica definir claramente el desafío que se requiere solventar, entendiendo de primera mano su importancia y cómo el aprendizaje automático puede ser útil.\n",
    "\n",
    "- Especificar el desafío de forma medible, es decir que se pretende predecir.\n",
    "- Identificar y reconocer el valor y el impacto que la solución proporcionará en su aplicación.\n",
    "- Asegurarse de que el problema es aplicable para técnicas de Machine Learning, es decir, si hay patrones en los datos que se pueden aprender para automatizar la toma de decisiones.\n",
    "- Determinar si se trata de un problema de clasificación, regresión, clustering, etc.\n",
    "\n",
    "\n",
    "**Stakeholders**\n",
    "\n",
    "Todas aquellas personas, comunidades u organizaciones que se ven involucradas o afectadas en el propósito del proyecto de forma directa o indirecta.\r\n",
    "identificar este tipo de tipología y gestionarlo eficazmente es crucial para asegurar que sus necesidades sean atendidas, no haya sesgos y que el proyecto sea exitoso en la medida de lo posible.\r\n"
   ]
  },
  {
   "cell_type": "markdown",
   "id": "56ffa43f-6c11-4fe2-8a4b-8f9475dc6a0b",
   "metadata": {},
   "source": [
    "## 2. Selección del contexto e identificación del problema"
   ]
  },
  {
   "cell_type": "markdown",
   "id": "f56f5646-49fc-4162-a889-4ab1a59b7527",
   "metadata": {},
   "source": [
    "**Objetivo:** Determinar o predecir el aporte diario de producción de leche en los municipios del departamento del valle del cauca.\n",
    "\n",
    "**Contexto:** La producción de leche en el Valle del Cauca es uno de los pilares más importantes dentro del sector agroindustrial de Colombia, contribuyendo significativamente a la economía local y nacional.\n",
    "\n",
    "**Identificación y Justificación:**\n",
    "\n",
    "En los últimos años, los productores de leche han enfrentado desafíos relacionados con la eficiencia en la producción, el clima y la demanda de mercado. Predecir con precisión la producción de leche permite a los ganaderos optimizar sus recursos, planificar mejor las cosechas y mejorar la rentabilidad de sus fincas.\n",
    "\n",
    "El uso de modelos predictivos en el sector agrícola mejora la eficiencia operativa y genera un impacto positivo en la seguridad alimentaria y en la sostenibilidad del sector. A nivel ambiental, el uso eficiente de recursos puede reducir el impacto negativo de la producción de leche, como el desperdicio de agua y la emisión de gases contaminantes. Además, al mejorar la eficiencia en la producción de leche, se pueden generar beneficios económicos y sociales para los pequeños y medianos productores, promoviendo el desarrollo rural en el departamento.\r\n",
    "\r\n",
    "El sector a estudiar es el Valle del Cauca, región con un gran potencial para la producción de leche, siendo un referente para el país debido a su infraestructura y a la cantidad de fincas y tierras lecheras dedicadas. El proyecto busca generar una estimación básica para efectos prácticos que tiene por objetivo determinar el aporte diario de leche en diferentes municipios del Valle del cauca, basado en factores históricos como el número de vacas en ordeño, la producción diaria y la producción promedio de cada vaca al día.\r",
    "Tipo y Manejo del Problema:\r\n",
    "El problema a abordar es un desarrollo de regresión para predecir el aporte diario de leche en los municipios del Valle del cauca. Se utilizarán técnicas de machine learning, específicamente modelos de regresión, para analizar datos históricos relacionados con factores que afectan directamente la producción de leche. Las fuentes de información son extraídas de datos públicos obtenidos de \"datos abiertos Colombia\" para el sector ganadero y agropecuario.\r",
    "\r\n",
    "El proyecto aplicará técnicas de ciencia de datos básico y análisis de datos exploratorio para preparar la información con la cual se entrenará el modelo.\r\n",
    "delo."
   ]
  },
  {
   "cell_type": "code",
   "execution_count": 589,
   "id": "e1f2c95c-3157-4516-bca4-3c3fac403e43",
   "metadata": {},
   "outputs": [
    {
     "data": {
      "text/html": [
       "<div>\n",
       "<style scoped>\n",
       "    .dataframe tbody tr th:only-of-type {\n",
       "        vertical-align: middle;\n",
       "    }\n",
       "\n",
       "    .dataframe tbody tr th {\n",
       "        vertical-align: top;\n",
       "    }\n",
       "\n",
       "    .dataframe thead th {\n",
       "        text-align: right;\n",
       "    }\n",
       "</style>\n",
       "<table border=\"1\" class=\"dataframe\">\n",
       "  <thead>\n",
       "    <tr style=\"text-align: right;\">\n",
       "      <th></th>\n",
       "      <th>Municipio</th>\n",
       "      <th>Número de  Vacas en Ordeño</th>\n",
       "      <th>Producción  diaria (Litros)</th>\n",
       "      <th>Producción Promedio Vaca dia (Litros)</th>\n",
       "      <th>Participación en la Producción  Diaria de Leche  (%)</th>\n",
       "      <th>Precio promedio en finca ($/lt)</th>\n",
       "      <th>Año</th>\n",
       "    </tr>\n",
       "  </thead>\n",
       "  <tbody>\n",
       "    <tr>\n",
       "      <th>1</th>\n",
       "      <td>Cali</td>\n",
       "      <td>1463</td>\n",
       "      <td>14585</td>\n",
       "      <td>10.0</td>\n",
       "      <td>2.16</td>\n",
       "      <td>1000.0</td>\n",
       "      <td>2017</td>\n",
       "    </tr>\n",
       "    <tr>\n",
       "      <th>2</th>\n",
       "      <td>Alcalá</td>\n",
       "      <td>1700</td>\n",
       "      <td>30600</td>\n",
       "      <td>18.0</td>\n",
       "      <td>4.54</td>\n",
       "      <td>1150.0</td>\n",
       "      <td>2017</td>\n",
       "    </tr>\n",
       "    <tr>\n",
       "      <th>3</th>\n",
       "      <td>Andalucia</td>\n",
       "      <td>1506</td>\n",
       "      <td>13290</td>\n",
       "      <td>9.0</td>\n",
       "      <td>1.97</td>\n",
       "      <td>994.0</td>\n",
       "      <td>2017</td>\n",
       "    </tr>\n",
       "  </tbody>\n",
       "</table>\n",
       "</div>"
      ],
      "text/plain": [
       "   Municipio  Número de  Vacas en Ordeño  Producción  diaria (Litros)  \\\n",
       "1       Cali                        1463                        14585   \n",
       "2     Alcalá                        1700                        30600   \n",
       "3  Andalucia                        1506                        13290   \n",
       "\n",
       "   Producción Promedio Vaca dia (Litros)  \\\n",
       "1                                   10.0   \n",
       "2                                   18.0   \n",
       "3                                    9.0   \n",
       "\n",
       "   Participación en la Producción  Diaria de Leche  (%)  \\\n",
       "1                                               2.16      \n",
       "2                                               4.54      \n",
       "3                                               1.97      \n",
       "\n",
       "   Precio promedio en finca ($/lt)   Año  \n",
       "1                           1000.0  2017  \n",
       "2                           1150.0  2017  \n",
       "3                            994.0  2017  "
      ]
     },
     "execution_count": 589,
     "metadata": {},
     "output_type": "execute_result"
    }
   ],
   "source": [
    "import pandas as pd\n",
    "import numpy as np\n",
    "import matplotlib.pyplot as plt\n",
    "\n",
    "dataset = pd.read_csv(\"produccion_de_leche.csv\")\n",
    "dataset.iloc[1:4,:]"
   ]
  },
  {
   "cell_type": "code",
   "execution_count": 590,
   "id": "a9413e35-6bce-4dca-ae2e-55bff29081b1",
   "metadata": {},
   "outputs": [
    {
     "data": {
      "text/html": [
       "<div>\n",
       "<style scoped>\n",
       "    .dataframe tbody tr th:only-of-type {\n",
       "        vertical-align: middle;\n",
       "    }\n",
       "\n",
       "    .dataframe tbody tr th {\n",
       "        vertical-align: top;\n",
       "    }\n",
       "\n",
       "    .dataframe thead th {\n",
       "        text-align: right;\n",
       "    }\n",
       "</style>\n",
       "<table border=\"1\" class=\"dataframe\">\n",
       "  <thead>\n",
       "    <tr style=\"text-align: right;\">\n",
       "      <th></th>\n",
       "      <th>Municipio</th>\n",
       "      <th>Número de  Vacas en Ordeño</th>\n",
       "      <th>Producción  diaria (Litros)</th>\n",
       "      <th>Producción Promedio Vaca dia (Litros)</th>\n",
       "      <th>Participación en la Producción  Diaria de Leche  (%)</th>\n",
       "      <th>Precio promedio en finca ($/lt)</th>\n",
       "      <th>Año</th>\n",
       "    </tr>\n",
       "  </thead>\n",
       "  <tbody>\n",
       "    <tr>\n",
       "      <th>129</th>\n",
       "      <td>Cali</td>\n",
       "      <td>624</td>\n",
       "      <td>5304</td>\n",
       "      <td>9.0</td>\n",
       "      <td>1.15</td>\n",
       "      <td>1292.0</td>\n",
       "      <td>2019</td>\n",
       "    </tr>\n",
       "    <tr>\n",
       "      <th>130</th>\n",
       "      <td>Alcalá</td>\n",
       "      <td>825</td>\n",
       "      <td>17460</td>\n",
       "      <td>21.0</td>\n",
       "      <td>3.78</td>\n",
       "      <td>1000.0</td>\n",
       "      <td>2019</td>\n",
       "    </tr>\n",
       "    <tr>\n",
       "      <th>131</th>\n",
       "      <td>Andalucia</td>\n",
       "      <td>684</td>\n",
       "      <td>5124</td>\n",
       "      <td>7.0</td>\n",
       "      <td>1.11</td>\n",
       "      <td>1000.0</td>\n",
       "      <td>2019</td>\n",
       "    </tr>\n",
       "    <tr>\n",
       "      <th>132</th>\n",
       "      <td>Ansermanuevo</td>\n",
       "      <td>2671</td>\n",
       "      <td>19018</td>\n",
       "      <td>7.0</td>\n",
       "      <td>4.12</td>\n",
       "      <td>974.0</td>\n",
       "      <td>2019</td>\n",
       "    </tr>\n",
       "  </tbody>\n",
       "</table>\n",
       "</div>"
      ],
      "text/plain": [
       "        Municipio  Número de  Vacas en Ordeño  Producción  diaria (Litros)  \\\n",
       "129          Cali                         624                         5304   \n",
       "130        Alcalá                         825                        17460   \n",
       "131     Andalucia                         684                         5124   \n",
       "132  Ansermanuevo                        2671                        19018   \n",
       "\n",
       "     Producción Promedio Vaca dia (Litros)  \\\n",
       "129                                    9.0   \n",
       "130                                   21.0   \n",
       "131                                    7.0   \n",
       "132                                    7.0   \n",
       "\n",
       "     Participación en la Producción  Diaria de Leche  (%)  \\\n",
       "129                                               1.15      \n",
       "130                                               3.78      \n",
       "131                                               1.11      \n",
       "132                                               4.12      \n",
       "\n",
       "     Precio promedio en finca ($/lt)   Año  \n",
       "129                           1292.0  2019  \n",
       "130                           1000.0  2019  \n",
       "131                           1000.0  2019  \n",
       "132                            974.0  2019  "
      ]
     },
     "execution_count": 590,
     "metadata": {},
     "output_type": "execute_result"
    }
   ],
   "source": [
    "dataset2019= dataset.copy()\n",
    "dataset2019 = dataset[(dataset['Año']==2019)&(dataset['Municipio']!='Total')]\n",
    "dataset2019.iloc[:4,:]"
   ]
  },
  {
   "cell_type": "code",
   "execution_count": 591,
   "id": "4fd495f3-6507-4ab6-8868-bc587ee01c5d",
   "metadata": {},
   "outputs": [
    {
     "name": "stdout",
     "output_type": "stream",
     "text": [
      "Municipio                                                object\n",
      "Número de  Vacas en Ordeño                                int64\n",
      "Producción  diaria (Litros)                               int64\n",
      "Producción Promedio Vaca dia (Litros)                   float64\n",
      "Participación en la Producción  Diaria de Leche  (%)    float64\n",
      "Precio promedio en finca ($/lt)                         float64\n",
      "Año                                                       int64\n",
      "dtype: object\n"
     ]
    }
   ],
   "source": [
    "print(dataset2019.dtypes)"
   ]
  },
  {
   "cell_type": "markdown",
   "id": "975e8792-ae59-45e4-911d-a83b3138af3c",
   "metadata": {},
   "source": [
    "### **Importancia del tipado en el análisis de datos** \n",
    "\n",
    "En el análisis exploratorio de datos y por supuesto en la manipulación y extracción de características es importante conocer y analizar la fiabilidad en la correlación de los datos, determinando de forma anticipada el tipo de datos que se está trabajando. El tipo de datos afecta directamente la interpretación y convergencia de las correlaciones, la velocidad y procesamiento flexible.\n",
    "\n",
    "### **Detección, depurado e interpretación de datos faltantes** \n",
    "\n",
    "Los datos faltantes en machine learning afectan significativamente el análisis y los resultados de un modelo de machine learning, generando impactos por perdida de calidad en los resultados, inconsistencia y sesgos de información y dificultad en la visualización y en las estadísticas."
   ]
  },
  {
   "cell_type": "code",
   "execution_count": 593,
   "id": "5a141413-3ab3-4d3f-aaac-8ab02de0feee",
   "metadata": {},
   "outputs": [
    {
     "name": "stdout",
     "output_type": "stream",
     "text": [
      "Municipio                                               0\n",
      "Número de  Vacas en Ordeño                              0\n",
      "Producción  diaria (Litros)                             0\n",
      "Producción Promedio Vaca dia (Litros)                   0\n",
      "Participación en la Producción  Diaria de Leche  (%)    0\n",
      "Precio promedio en finca ($/lt)                         0\n",
      "Año                                                     0\n",
      "dtype: int64\n",
      "<class 'pandas.core.frame.DataFrame'>\n",
      "Index: 42 entries, 129 to 170\n",
      "Data columns (total 7 columns):\n",
      " #   Column                                                Non-Null Count  Dtype  \n",
      "---  ------                                                --------------  -----  \n",
      " 0   Municipio                                             42 non-null     object \n",
      " 1   Número de  Vacas en Ordeño                            42 non-null     int64  \n",
      " 2   Producción  diaria (Litros)                           42 non-null     int64  \n",
      " 3   Producción Promedio Vaca dia (Litros)                 42 non-null     float64\n",
      " 4   Participación en la Producción  Diaria de Leche  (%)  42 non-null     float64\n",
      " 5   Precio promedio en finca ($/lt)                       42 non-null     float64\n",
      " 6   Año                                                   42 non-null     int64  \n",
      "dtypes: float64(3), int64(3), object(1)\n",
      "memory usage: 2.6+ KB\n",
      "None\n"
     ]
    }
   ],
   "source": [
    "print(dataset2019.isnull().sum())\n",
    "print(dataset2019.info())"
   ]
  },
  {
   "cell_type": "markdown",
   "id": "8ee6571d-814f-4375-8e67-c17157956362",
   "metadata": {},
   "source": [
    "### **Limpieza de datos basura**\r\n",
    "\r\n",
    "La limpieza de datos basura es el proceso de identificar y corregir o eliminar datos irrelevantes, erróneos, o inconsistentes que pueden afectar el análisis o los modelos de machine learning.\r\n",
    "\r\n",
    "El data-cleaning tiene varias técnicas:\r\n",
    "\r\n",
    "- Inspección visual global\r\n",
    "- Eliminación de duplicados\r\n",
    "- Identificación de atípicos por rangos \r\n",
    "- Estandarización de formatos y unidades de medida\r\n",
    "- Unificado de categorías\r\n",
    "\n"
   ]
  },
  {
   "cell_type": "markdown",
   "id": "b14b7ebd-d977-4e25-8b70-3fc423444b50",
   "metadata": {},
   "source": [
    "#### **Inspección Visual**"
   ]
  },
  {
   "cell_type": "markdown",
   "id": "88bb11bc-c436-477c-aa9c-e279085e2cd6",
   "metadata": {},
   "source": [
    "print(dataset2019.describe())"
   ]
  },
  {
   "cell_type": "markdown",
   "id": "b0bb007a-1de6-4053-b9dd-235f373dae5d",
   "metadata": {},
   "source": [
    "#### **Eliminación de duplicados**"
   ]
  },
  {
   "cell_type": "code",
   "execution_count": 598,
   "id": "c0a1f5e0-3a75-4c79-a08d-c23d06383917",
   "metadata": {},
   "outputs": [],
   "source": [
    "dataset2019=dataset2019.drop_duplicates(inplace=False)"
   ]
  },
  {
   "cell_type": "markdown",
   "id": "fbb3decb-3944-4cb7-97a0-2f4ebd8ad4d7",
   "metadata": {},
   "source": [
    "#### **Identificación de atípicos por rangos**"
   ]
  },
  {
   "cell_type": "markdown",
   "id": "6fbdcbfe-df13-46c4-b63b-2e7630f555aa",
   "metadata": {},
   "source": [
    "dataset2019 = dataset2019[(dataset2019['Participación en la Producción Diaria de Leche (%)'] >= 0) & (dataset2019['Participación en la Producción Diaria de Leche (%)'] <= 6)]"
   ]
  },
  {
   "cell_type": "markdown",
   "id": "1364a15b-16a6-4fd6-8703-ccef5611672b",
   "metadata": {},
   "source": [
    "#### **Estandarizacion de formatos**"
   ]
  },
  {
   "cell_type": "markdown",
   "id": "d9ddf593-aee5-4382-9eb6-90fb6c02f11d",
   "metadata": {},
   "source": [
    "dataset2019['Año'] = pd.to_datetime(dataset2019['Año'])"
   ]
  },
  {
   "cell_type": "markdown",
   "id": "1a1506ad-22d8-4911-a396-3ede069b4340",
   "metadata": {},
   "source": [
    "#### **Unificado de categorías (no aplica)**"
   ]
  },
  {
   "cell_type": "markdown",
   "id": "21b329f2-0cc7-4ee5-9896-cf013d1e68c2",
   "metadata": {},
   "source": [
    "dataset2019['genero'] = dataset2019['genero'].replace({'Masculino': '1', 'Femenino': '0'})"
   ]
  },
  {
   "cell_type": "markdown",
   "id": "b9925a3a-9786-44f8-b6bc-823adc7e3ca5",
   "metadata": {},
   "source": [
    "### **Detección y Tratamiento de Datos Ausentes y anomalias**\n",
    "\n",
    "El manejo de datos faltantes es importante para que los valores nulos o vacíos no afecten la correlación de las métricas estadísticas, la interpretación, el análisis descriptivo y el desempeño del modelo de machine learning.\n",
    "\n",
    "- Z-Score  \n",
    "    - z= abs((x-media)/std)\n",
    "- Media\n",
    "- Mediana"
   ]
  },
  {
   "cell_type": "markdown",
   "id": "41f98d73-2c1d-4c97-a547-51b87949aa7c",
   "metadata": {},
   "source": [
    "### **Técnicas de normalización de datos**\n",
    "\n"
   ]
  },
  {
   "cell_type": "markdown",
   "id": "08639bda-dd45-4f5c-9cfc-0f89ba874720",
   "metadata": {},
   "source": [
    "La normalización es un proceso que por efecto de mayor flexibilidad y procesamiento se realiza antes de introducir datos a un modelo machine learning. el escalado de los datos es la técnica principal de la normalización y es usado cuando el conjunto tiene datos de diferente naturaleza como categorías y números grandes, esto se hace en su mayor relevancia para evitar sesgos, aumentar el rendimiento de proceso y mejorar la consistencia de la información suministrada.\n",
    "\n",
    "Conocemos dos métodos:\n",
    "\n",
    "- Normalizado de características\n",
    "    - df-df.min()/df.max()-df.min() --> rango de 0 a 1\n",
    "- Estandarizado de características\n",
    "    - df-df.main()/df.std() --> con desviacion estandar en 1\n"
   ]
  },
  {
   "cell_type": "code",
   "execution_count": 608,
   "id": "27ed3cfa-515b-4686-9022-a5f67d40536e",
   "metadata": {},
   "outputs": [
    {
     "data": {
      "text/html": [
       "<div>\n",
       "<style scoped>\n",
       "    .dataframe tbody tr th:only-of-type {\n",
       "        vertical-align: middle;\n",
       "    }\n",
       "\n",
       "    .dataframe tbody tr th {\n",
       "        vertical-align: top;\n",
       "    }\n",
       "\n",
       "    .dataframe thead th {\n",
       "        text-align: right;\n",
       "    }\n",
       "</style>\n",
       "<table border=\"1\" class=\"dataframe\">\n",
       "  <thead>\n",
       "    <tr style=\"text-align: right;\">\n",
       "      <th></th>\n",
       "      <th>Número de  Vacas en Ordeño</th>\n",
       "      <th>Producción  diaria (Litros)</th>\n",
       "      <th>Producción Promedio Vaca dia (Litros)</th>\n",
       "      <th>Participación en la Producción  Diaria de Leche  (%)</th>\n",
       "    </tr>\n",
       "  </thead>\n",
       "  <tbody>\n",
       "    <tr>\n",
       "      <th>129</th>\n",
       "      <td>624</td>\n",
       "      <td>5304</td>\n",
       "      <td>9.0</td>\n",
       "      <td>1.15</td>\n",
       "    </tr>\n",
       "    <tr>\n",
       "      <th>130</th>\n",
       "      <td>825</td>\n",
       "      <td>17460</td>\n",
       "      <td>21.0</td>\n",
       "      <td>3.78</td>\n",
       "    </tr>\n",
       "    <tr>\n",
       "      <th>131</th>\n",
       "      <td>684</td>\n",
       "      <td>5124</td>\n",
       "      <td>7.0</td>\n",
       "      <td>1.11</td>\n",
       "    </tr>\n",
       "    <tr>\n",
       "      <th>132</th>\n",
       "      <td>2671</td>\n",
       "      <td>19018</td>\n",
       "      <td>7.0</td>\n",
       "      <td>4.12</td>\n",
       "    </tr>\n",
       "    <tr>\n",
       "      <th>133</th>\n",
       "      <td>550</td>\n",
       "      <td>3250</td>\n",
       "      <td>6.0</td>\n",
       "      <td>0.70</td>\n",
       "    </tr>\n",
       "  </tbody>\n",
       "</table>\n",
       "</div>"
      ],
      "text/plain": [
       "     Número de  Vacas en Ordeño  Producción  diaria (Litros)  \\\n",
       "129                         624                         5304   \n",
       "130                         825                        17460   \n",
       "131                         684                         5124   \n",
       "132                        2671                        19018   \n",
       "133                         550                         3250   \n",
       "\n",
       "     Producción Promedio Vaca dia (Litros)  \\\n",
       "129                                    9.0   \n",
       "130                                   21.0   \n",
       "131                                    7.0   \n",
       "132                                    7.0   \n",
       "133                                    6.0   \n",
       "\n",
       "     Participación en la Producción  Diaria de Leche  (%)  \n",
       "129                                               1.15     \n",
       "130                                               3.78     \n",
       "131                                               1.11     \n",
       "132                                               4.12     \n",
       "133                                               0.70     "
      ]
     },
     "execution_count": 608,
     "metadata": {},
     "output_type": "execute_result"
    }
   ],
   "source": [
    "dataset2019 = dataset2019.iloc[:,1:5]\n",
    "dataset2019.head()"
   ]
  },
  {
   "cell_type": "code",
   "execution_count": 609,
   "id": "bfa9d7f6-e587-4d1e-88e5-df96a19c3751",
   "metadata": {},
   "outputs": [
    {
     "data": {
      "text/html": [
       "<div>\n",
       "<style scoped>\n",
       "    .dataframe tbody tr th:only-of-type {\n",
       "        vertical-align: middle;\n",
       "    }\n",
       "\n",
       "    .dataframe tbody tr th {\n",
       "        vertical-align: top;\n",
       "    }\n",
       "\n",
       "    .dataframe thead th {\n",
       "        text-align: right;\n",
       "    }\n",
       "</style>\n",
       "<table border=\"1\" class=\"dataframe\">\n",
       "  <thead>\n",
       "    <tr style=\"text-align: right;\">\n",
       "      <th></th>\n",
       "      <th>Número de  Vacas en Ordeño</th>\n",
       "      <th>Producción  diaria (Litros)</th>\n",
       "      <th>Producción Promedio Vaca dia (Litros)</th>\n",
       "      <th>Participación en la Producción  Diaria de Leche  (%)</th>\n",
       "    </tr>\n",
       "  </thead>\n",
       "  <tbody>\n",
       "    <tr>\n",
       "      <th>129</th>\n",
       "      <td>0.146114</td>\n",
       "      <td>0.114857</td>\n",
       "      <td>0.294118</td>\n",
       "      <td>0.115385</td>\n",
       "    </tr>\n",
       "    <tr>\n",
       "      <th>130</th>\n",
       "      <td>0.198187</td>\n",
       "      <td>0.404286</td>\n",
       "      <td>1.000000</td>\n",
       "      <td>0.404396</td>\n",
       "    </tr>\n",
       "    <tr>\n",
       "      <th>131</th>\n",
       "      <td>0.161658</td>\n",
       "      <td>0.110571</td>\n",
       "      <td>0.176471</td>\n",
       "      <td>0.110989</td>\n",
       "    </tr>\n",
       "    <tr>\n",
       "      <th>132</th>\n",
       "      <td>0.676425</td>\n",
       "      <td>0.441381</td>\n",
       "      <td>0.176471</td>\n",
       "      <td>0.441758</td>\n",
       "    </tr>\n",
       "    <tr>\n",
       "      <th>133</th>\n",
       "      <td>0.126943</td>\n",
       "      <td>0.065952</td>\n",
       "      <td>0.117647</td>\n",
       "      <td>0.065934</td>\n",
       "    </tr>\n",
       "  </tbody>\n",
       "</table>\n",
       "</div>"
      ],
      "text/plain": [
       "     Número de  Vacas en Ordeño  Producción  diaria (Litros)  \\\n",
       "129                    0.146114                     0.114857   \n",
       "130                    0.198187                     0.404286   \n",
       "131                    0.161658                     0.110571   \n",
       "132                    0.676425                     0.441381   \n",
       "133                    0.126943                     0.065952   \n",
       "\n",
       "     Producción Promedio Vaca dia (Litros)  \\\n",
       "129                               0.294118   \n",
       "130                               1.000000   \n",
       "131                               0.176471   \n",
       "132                               0.176471   \n",
       "133                               0.117647   \n",
       "\n",
       "     Participación en la Producción  Diaria de Leche  (%)  \n",
       "129                                           0.115385     \n",
       "130                                           0.404396     \n",
       "131                                           0.110989     \n",
       "132                                           0.441758     \n",
       "133                                           0.065934     "
      ]
     },
     "execution_count": 609,
     "metadata": {},
     "output_type": "execute_result"
    }
   ],
   "source": [
    "dataset2019 = (dataset2019-dataset2019.min())/(dataset2019.max()-dataset2019.min())\n",
    "dataset2019.head()"
   ]
  },
  {
   "cell_type": "markdown",
   "id": "3a9982de-e623-4380-a4ea-7b0557f4594e",
   "metadata": {},
   "source": [
    "### **Análisis Univariado**\n",
    "Se emplea para comprender la distribución, tendencia y dispersión de una variable, para eso se hará uso del histograma o grafico de densidad y la estadística descriptiva común para analizar detenidamente la variable en cuestión.\n"
   ]
  },
  {
   "cell_type": "code",
   "execution_count": 611,
   "id": "661aef9d-4f25-43c4-a3a6-2814566f7401",
   "metadata": {},
   "outputs": [
    {
     "name": "stdout",
     "output_type": "stream",
     "text": [
      "Index(['Número de  Vacas en Ordeño', 'Producción  diaria (Litros)',\n",
      "       'Producción Promedio Vaca dia (Litros)',\n",
      "       'Participación en la Producción  Diaria de Leche  (%)'],\n",
      "      dtype='object')\n"
     ]
    }
   ],
   "source": [
    "import seaborn as sns\n",
    "\n",
    "print(dataset2019.columns)"
   ]
  },
  {
   "cell_type": "code",
   "execution_count": 612,
   "id": "12a02d65-0e5a-4859-a832-47bcab967f2c",
   "metadata": {},
   "outputs": [
    {
     "name": "stderr",
     "output_type": "stream",
     "text": [
      "C:\\ANACONDA\\Lib\\site-packages\\seaborn\\_oldcore.py:1119: FutureWarning: use_inf_as_na option is deprecated and will be removed in a future version. Convert inf values to NaN before operating instead.\n",
      "  with pd.option_context('mode.use_inf_as_na', True):\n"
     ]
    },
    {
     "data": {
      "text/plain": [
       "<Axes: xlabel='Participación en la Producción  Diaria de Leche  (%)', ylabel='Count'>"
      ]
     },
     "execution_count": 612,
     "metadata": {},
     "output_type": "execute_result"
    },
    {
     "data": {
      "image/png": "[encoded data removed]",
      "text/plain": [
       "<Figure size 640x480 with 1 Axes>"
      ]
     },
     "metadata": {},
     "output_type": "display_data"
    }
   ],
   "source": [
    "sns.histplot(dataset2019['Participación en la Producción  Diaria de Leche  (%)'],kde=True)"
   ]
  },
  {
   "cell_type": "markdown",
   "id": "9f331c20-557d-477a-99a3-bc08b9a05e3c",
   "metadata": {},
   "source": [
    "#### **Estadística descriptiva para analizar la distribución y naturaleza de los datos**"
   ]
  },
  {
   "cell_type": "code",
   "execution_count": 614,
   "id": "ca3e2ecf-7ecb-4c4e-8b97-b4f9a8ac2606",
   "metadata": {},
   "outputs": [
    {
     "name": "stdout",
     "output_type": "stream",
     "text": [
      "Media: 0.25065410779696495\n",
      "Mediana: 0.1923076923076923\n",
      "Moda: 0    0.065934\n",
      "1    0.115385\n",
      "2    0.138462\n",
      "3    0.204396\n",
      "Name: Participación en la Producción  Diaria de Leche  (%), dtype: float64\n",
      "Desviación estandar: 0.2006687682013847\n",
      "Varianza: 0.04026795453146107\n",
      "Rango intercuartilico (dispersion central): 0.23434065934065934\n",
      "Coeficiente de asimetria de: 1.6341490486797399 ---> Tiene un sesgo o asimetria positiva hacia la derecha\n",
      "Curtosis: 3.245531738998946 ---> Es mas apuntada que una normal\n"
     ]
    }
   ],
   "source": [
    "print('Media:',dataset2019['Participación en la Producción  Diaria de Leche  (%)'].mean())\n",
    "print('Mediana:',dataset2019['Participación en la Producción  Diaria de Leche  (%)'].median())\n",
    "print('Moda:',dataset2019['Participación en la Producción  Diaria de Leche  (%)'].mode())\n",
    "print('Desviación estandar:',dataset2019['Participación en la Producción  Diaria de Leche  (%)'].std())\n",
    "print('Varianza:',dataset2019['Participación en la Producción  Diaria de Leche  (%)'].var())\n",
    "\n",
    "q1 = dataset2019['Participación en la Producción  Diaria de Leche  (%)'].quantile(0.25)\n",
    "q3 = dataset2019['Participación en la Producción  Diaria de Leche  (%)'].quantile(0.75)\n",
    "iqr = q3 - q1\n",
    "print('Rango intercuartilico (dispersion central):',iqr)\n",
    "\n",
    "\n",
    "from scipy.stats import skew,kurtosis\n",
    "\n",
    "asimetria = skew(dataset2019['Participación en la Producción  Diaria de Leche  (%)'])\n",
    "print('Coeficiente de asimetria de:',asimetria,'---> Tiene un sesgo o asimetria positiva hacia la derecha')\n",
    "\n",
    "\n",
    "curtosis = kurtosis(dataset2019['Participación en la Producción  Diaria de Leche  (%)'], fisher=True)\n",
    "print('Curtosis:',curtosis,'---> Es mas apuntada que una normal')"
   ]
  },
  {
   "cell_type": "markdown",
   "id": "071b2bc3-957c-40ab-a19a-2bb605ca9ef1",
   "metadata": {},
   "source": [
    "\r\n",
    "### **Análisis Bivariado**\r\n",
    "Se emplea para comprender la distribución, tendencia y dispersión de la relación entre dos variables; la correlación entre dos variables genera un impacto determinado según sus tendencias. \r\n",
    "Para efectos prácticos, se comparan dos variables que resultan íntimamente relacionadas con el objetivo de búsqueda, ya sea la producción diaria en litros o la cantidad de vacas en ordeño versus la participación en el mercado departamental. la segunda, sugiere una correlación positiva fuerte, ya que a mayor cantidad de vacas productoras los departamentos aportan mayormente a la producción diaria del departamento, análogamente la gráfica que describe la variabilidad de la correlación entre la producción de leche diaria es directamente proporcional a la participación del municipio en la producción del departamento. muy pocos datos atípicos se presentan en el diagrama de dispersión, lo que sugiere un comportamiento lineal de correlación positiva.\r\n"
   ]
  },
  {
   "cell_type": "code",
   "execution_count": 616,
   "id": "5adb2e6f-1bc9-44b2-baca-2aa664089864",
   "metadata": {},
   "outputs": [
    {
     "data": {
      "image/png": "[encoded data removed]",
      "text/plain": [
       "<Figure size 1400x300 with 2 Axes>"
      ]
     },
     "metadata": {},
     "output_type": "display_data"
    }
   ],
   "source": [
    "x1 = dataset2019['Número de  Vacas en Ordeño']\n",
    "y1 = dataset2019['Participación en la Producción  Diaria de Leche  (%)']\n",
    "x2 = dataset2019['Producción  diaria (Litros)']\n",
    "y2 = dataset2019['Participación en la Producción  Diaria de Leche  (%)']\n",
    "\n",
    "plt.figure(figsize=(14, 3))\n",
    "plt.subplot(1,2,2)\n",
    "plt.plot(x2,y2,'r')\n",
    "plt.grid()\n",
    "plt.ylabel('produccion diaria')\n",
    "plt.xlabel('Participacion diaria')\n",
    "plt.legend(['produccion diaria','Participacion diaria'],bbox_to_anchor=(1, 1),fontsize='small')\n",
    "\n",
    "plt.subplot(1,2,1)\n",
    "c=[i for i in range(1,43,1)]\n",
    "plt.scatter(x1,y1,c=[c])\n",
    "plt.grid()\n",
    "plt.ylabel('Numero de vacas')\n",
    "plt.xlabel('Participacion diaria')\n",
    "\n",
    "\n",
    "plt.tight_layout()"
   ]
  },
  {
   "cell_type": "code",
   "execution_count": null,
   "id": "c4826496-bbb2-43a3-9282-9ee02a914097",
   "metadata": {},
   "outputs": [],
   "source": []
  }
 ],
 "metadata": {
  "kernelspec": {
   "display_name": "Python 3 (ipykernel)",
   "language": "python",
   "name": "python3"
  },
  "language_info": {
   "codemirror_mode": {
    "name": "ipython",
    "version": 3
   },
   "file_extension": ".py",
   "mimetype": "text/x-python",
   "name": "python",
   "nbconvert_exporter": "python",
   "pygments_lexer": "ipython3",
   "version": "3.11.7"
  }
 },
 "nbformat": 4,
 "nbformat_minor": 5
}
